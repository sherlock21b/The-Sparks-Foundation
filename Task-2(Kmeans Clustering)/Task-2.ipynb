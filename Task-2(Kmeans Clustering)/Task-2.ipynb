{
 "cells": [
  {
   "cell_type": "markdown",
   "metadata": {},
   "source": [
    "# THE SPARKS FOUNDATION"
   ]
  },
  {
   "cell_type": "markdown",
   "metadata": {},
   "source": [
    "## NAME:RITIK BANERJEE "
   ]
  },
  {
   "cell_type": "markdown",
   "metadata": {},
   "source": [
    "## Cluster the given iris dataset using Kmeans Clustering"
   ]
  },
  {
   "cell_type": "code",
   "execution_count": 2,
   "metadata": {},
   "outputs": [
    {
     "name": "stderr",
     "output_type": "stream",
     "text": [
      "Registered S3 methods overwritten by 'ggplot2':\n",
      "  method         from \n",
      "  [.quosures     rlang\n",
      "  c.quosures     rlang\n",
      "  print.quosures rlang\n"
     ]
    }
   ],
   "source": [
    "#importing the libraries\n",
    "library(ggplot2)"
   ]
  },
  {
   "cell_type": "code",
   "execution_count": 15,
   "metadata": {},
   "outputs": [],
   "source": [
    "#reading the give dataset\n",
    "iris<-read.csv(\"Iris.csv\")"
   ]
  },
  {
   "cell_type": "code",
   "execution_count": 4,
   "metadata": {},
   "outputs": [
    {
     "data": {
      "text/html": [
       "<table>\n",
       "<thead><tr><th scope=col>Id</th><th scope=col>SepalLengthCm</th><th scope=col>SepalWidthCm</th><th scope=col>PetalLengthCm</th><th scope=col>PetalWidthCm</th><th scope=col>Species</th></tr></thead>\n",
       "<tbody>\n",
       "\t<tr><td>1          </td><td>5.1        </td><td>3.5        </td><td>1.4        </td><td>0.2        </td><td>Iris-setosa</td></tr>\n",
       "\t<tr><td>2          </td><td>4.9        </td><td>3.0        </td><td>1.4        </td><td>0.2        </td><td>Iris-setosa</td></tr>\n",
       "\t<tr><td>3          </td><td>4.7        </td><td>3.2        </td><td>1.3        </td><td>0.2        </td><td>Iris-setosa</td></tr>\n",
       "\t<tr><td>4          </td><td>4.6        </td><td>3.1        </td><td>1.5        </td><td>0.2        </td><td>Iris-setosa</td></tr>\n",
       "\t<tr><td>5          </td><td>5.0        </td><td>3.6        </td><td>1.4        </td><td>0.2        </td><td>Iris-setosa</td></tr>\n",
       "\t<tr><td>6          </td><td>5.4        </td><td>3.9        </td><td>1.7        </td><td>0.4        </td><td>Iris-setosa</td></tr>\n",
       "</tbody>\n",
       "</table>\n"
      ],
      "text/latex": [
       "\\begin{tabular}{r|llllll}\n",
       " Id & SepalLengthCm & SepalWidthCm & PetalLengthCm & PetalWidthCm & Species\\\\\n",
       "\\hline\n",
       "\t 1           & 5.1         & 3.5         & 1.4         & 0.2         & Iris-setosa\\\\\n",
       "\t 2           & 4.9         & 3.0         & 1.4         & 0.2         & Iris-setosa\\\\\n",
       "\t 3           & 4.7         & 3.2         & 1.3         & 0.2         & Iris-setosa\\\\\n",
       "\t 4           & 4.6         & 3.1         & 1.5         & 0.2         & Iris-setosa\\\\\n",
       "\t 5           & 5.0         & 3.6         & 1.4         & 0.2         & Iris-setosa\\\\\n",
       "\t 6           & 5.4         & 3.9         & 1.7         & 0.4         & Iris-setosa\\\\\n",
       "\\end{tabular}\n"
      ],
      "text/markdown": [
       "\n",
       "| Id | SepalLengthCm | SepalWidthCm | PetalLengthCm | PetalWidthCm | Species |\n",
       "|---|---|---|---|---|---|\n",
       "| 1           | 5.1         | 3.5         | 1.4         | 0.2         | Iris-setosa |\n",
       "| 2           | 4.9         | 3.0         | 1.4         | 0.2         | Iris-setosa |\n",
       "| 3           | 4.7         | 3.2         | 1.3         | 0.2         | Iris-setosa |\n",
       "| 4           | 4.6         | 3.1         | 1.5         | 0.2         | Iris-setosa |\n",
       "| 5           | 5.0         | 3.6         | 1.4         | 0.2         | Iris-setosa |\n",
       "| 6           | 5.4         | 3.9         | 1.7         | 0.4         | Iris-setosa |\n",
       "\n"
      ],
      "text/plain": [
       "  Id SepalLengthCm SepalWidthCm PetalLengthCm PetalWidthCm Species    \n",
       "1 1  5.1           3.5          1.4           0.2          Iris-setosa\n",
       "2 2  4.9           3.0          1.4           0.2          Iris-setosa\n",
       "3 3  4.7           3.2          1.3           0.2          Iris-setosa\n",
       "4 4  4.6           3.1          1.5           0.2          Iris-setosa\n",
       "5 5  5.0           3.6          1.4           0.2          Iris-setosa\n",
       "6 6  5.4           3.9          1.7           0.4          Iris-setosa"
      ]
     },
     "metadata": {},
     "output_type": "display_data"
    }
   ],
   "source": [
    "head(iris)"
   ]
  },
  {
   "cell_type": "code",
   "execution_count": 5,
   "metadata": {},
   "outputs": [],
   "source": [
    "iris_features<-iris"
   ]
  },
  {
   "cell_type": "code",
   "execution_count": 6,
   "metadata": {},
   "outputs": [],
   "source": [
    "iris_features$Species=NULL"
   ]
  },
  {
   "cell_type": "code",
   "execution_count": 7,
   "metadata": {},
   "outputs": [
    {
     "data": {
      "text/html": [
       "<table>\n",
       "<thead><tr><th scope=col>Id</th><th scope=col>SepalLengthCm</th><th scope=col>SepalWidthCm</th><th scope=col>PetalLengthCm</th><th scope=col>PetalWidthCm</th></tr></thead>\n",
       "<tbody>\n",
       "\t<tr><td>1  </td><td>5.1</td><td>3.5</td><td>1.4</td><td>0.2</td></tr>\n",
       "\t<tr><td>2  </td><td>4.9</td><td>3.0</td><td>1.4</td><td>0.2</td></tr>\n",
       "\t<tr><td>3  </td><td>4.7</td><td>3.2</td><td>1.3</td><td>0.2</td></tr>\n",
       "\t<tr><td>4  </td><td>4.6</td><td>3.1</td><td>1.5</td><td>0.2</td></tr>\n",
       "\t<tr><td>5  </td><td>5.0</td><td>3.6</td><td>1.4</td><td>0.2</td></tr>\n",
       "\t<tr><td>6  </td><td>5.4</td><td>3.9</td><td>1.7</td><td>0.4</td></tr>\n",
       "</tbody>\n",
       "</table>\n"
      ],
      "text/latex": [
       "\\begin{tabular}{r|lllll}\n",
       " Id & SepalLengthCm & SepalWidthCm & PetalLengthCm & PetalWidthCm\\\\\n",
       "\\hline\n",
       "\t 1   & 5.1 & 3.5 & 1.4 & 0.2\\\\\n",
       "\t 2   & 4.9 & 3.0 & 1.4 & 0.2\\\\\n",
       "\t 3   & 4.7 & 3.2 & 1.3 & 0.2\\\\\n",
       "\t 4   & 4.6 & 3.1 & 1.5 & 0.2\\\\\n",
       "\t 5   & 5.0 & 3.6 & 1.4 & 0.2\\\\\n",
       "\t 6   & 5.4 & 3.9 & 1.7 & 0.4\\\\\n",
       "\\end{tabular}\n"
      ],
      "text/markdown": [
       "\n",
       "| Id | SepalLengthCm | SepalWidthCm | PetalLengthCm | PetalWidthCm |\n",
       "|---|---|---|---|---|\n",
       "| 1   | 5.1 | 3.5 | 1.4 | 0.2 |\n",
       "| 2   | 4.9 | 3.0 | 1.4 | 0.2 |\n",
       "| 3   | 4.7 | 3.2 | 1.3 | 0.2 |\n",
       "| 4   | 4.6 | 3.1 | 1.5 | 0.2 |\n",
       "| 5   | 5.0 | 3.6 | 1.4 | 0.2 |\n",
       "| 6   | 5.4 | 3.9 | 1.7 | 0.4 |\n",
       "\n"
      ],
      "text/plain": [
       "  Id SepalLengthCm SepalWidthCm PetalLengthCm PetalWidthCm\n",
       "1 1  5.1           3.5          1.4           0.2         \n",
       "2 2  4.9           3.0          1.4           0.2         \n",
       "3 3  4.7           3.2          1.3           0.2         \n",
       "4 4  4.6           3.1          1.5           0.2         \n",
       "5 5  5.0           3.6          1.4           0.2         \n",
       "6 6  5.4           3.9          1.7           0.4         "
      ]
     },
     "metadata": {},
     "output_type": "display_data"
    }
   ],
   "source": [
    "head(iris_features)"
   ]
  },
  {
   "cell_type": "markdown",
   "metadata": {},
   "source": [
    "### Now to find the optimum number of clusters we use the elbow method"
   ]
  },
  {
   "cell_type": "code",
   "execution_count": 8,
   "metadata": {},
   "outputs": [
    {
     "data": {
      "image/png": "[encoded data removed]",
      "text/plain": [
       "plot without title"
      ]
     },
     "metadata": {},
     "output_type": "display_data"
    }
   ],
   "source": [
    "wss <- (nrow(iris_features)-1)*sum(apply(iris_features,2,var))\n",
    "  for (i in 2:15) wss[i] <- sum(kmeans(iris_features,centers=i)$withinss)\n",
    "plot(1:15, wss, type=\"b\", xlab=\"Number of Clusters\",\n",
    "     ylab=\"Within groups sum of squares\")"
   ]
  },
  {
   "cell_type": "markdown",
   "metadata": {},
   "source": [
    "### As we can see by the graph the elbow drop is around 3 so the no. of optimum clusters should be around 3 "
   ]
  },
  {
   "cell_type": "markdown",
   "metadata": {},
   "source": [
    "## Now lets use K means on the data set"
   ]
  },
  {
   "cell_type": "code",
   "execution_count": 9,
   "metadata": {},
   "outputs": [],
   "source": [
    "k<-kmeans(iris_features,3)"
   ]
  },
  {
   "cell_type": "code",
   "execution_count": 10,
   "metadata": {},
   "outputs": [
    {
     "data": {
      "text/plain": [
       "K-means clustering with 3 clusters of sizes 50, 50, 50\n",
       "\n",
       "Cluster means:\n",
       "     Id SepalLengthCm SepalWidthCm PetalLengthCm PetalWidthCm\n",
       "1 125.5         6.588        2.974         5.552        2.026\n",
       "2  25.5         5.006        3.418         1.464        0.244\n",
       "3  75.5         5.936        2.770         4.260        1.326\n",
       "\n",
       "Clustering vector:\n",
       "  [1] 2 2 2 2 2 2 2 2 2 2 2 2 2 2 2 2 2 2 2 2 2 2 2 2 2 2 2 2 2 2 2 2 2 2 2 2 2\n",
       " [38] 2 2 2 2 2 2 2 2 2 2 2 2 2 3 3 3 3 3 3 3 3 3 3 3 3 3 3 3 3 3 3 3 3 3 3 3 3\n",
       " [75] 3 3 3 3 3 3 3 3 3 3 3 3 3 3 3 3 3 3 3 3 3 3 3 3 3 3 1 1 1 1 1 1 1 1 1 1 1\n",
       "[112] 1 1 1 1 1 1 1 1 1 1 1 1 1 1 1 1 1 1 1 1 1 1 1 1 1 1 1 1 1 1 1 1 1 1 1 1 1\n",
       "[149] 1 1\n",
       "\n",
       "Within cluster sum of squares by cluster:\n",
       "[1] 10456.03 10427.74 10443.12\n",
       " (between_SS / total_SS =  88.9 %)\n",
       "\n",
       "Available components:\n",
       "\n",
       "[1] \"cluster\"      \"centers\"      \"totss\"        \"withinss\"     \"tot.withinss\"\n",
       "[6] \"betweenss\"    \"size\"         \"iter\"         \"ifault\"      "
      ]
     },
     "metadata": {},
     "output_type": "display_data"
    }
   ],
   "source": [
    "k"
   ]
  },
  {
   "cell_type": "code",
   "execution_count": 11,
   "metadata": {},
   "outputs": [
    {
     "data": {
      "text/html": [
       "<table>\n",
       "<thead><tr><th scope=col>Id</th><th scope=col>SepalLengthCm</th><th scope=col>SepalWidthCm</th><th scope=col>PetalLengthCm</th><th scope=col>PetalWidthCm</th></tr></thead>\n",
       "<tbody>\n",
       "\t<tr><td>125.5</td><td>6.588</td><td>2.974</td><td>5.552</td><td>2.026</td></tr>\n",
       "\t<tr><td> 25.5</td><td>5.006</td><td>3.418</td><td>1.464</td><td>0.244</td></tr>\n",
       "\t<tr><td> 75.5</td><td>5.936</td><td>2.770</td><td>4.260</td><td>1.326</td></tr>\n",
       "</tbody>\n",
       "</table>\n"
      ],
      "text/latex": [
       "\\begin{tabular}{r|lllll}\n",
       " Id & SepalLengthCm & SepalWidthCm & PetalLengthCm & PetalWidthCm\\\\\n",
       "\\hline\n",
       "\t 125.5 & 6.588 & 2.974 & 5.552 & 2.026\\\\\n",
       "\t  25.5 & 5.006 & 3.418 & 1.464 & 0.244\\\\\n",
       "\t  75.5 & 5.936 & 2.770 & 4.260 & 1.326\\\\\n",
       "\\end{tabular}\n"
      ],
      "text/markdown": [
       "\n",
       "| Id | SepalLengthCm | SepalWidthCm | PetalLengthCm | PetalWidthCm |\n",
       "|---|---|---|---|---|\n",
       "| 125.5 | 6.588 | 2.974 | 5.552 | 2.026 |\n",
       "|  25.5 | 5.006 | 3.418 | 1.464 | 0.244 |\n",
       "|  75.5 | 5.936 | 2.770 | 4.260 | 1.326 |\n",
       "\n"
      ],
      "text/plain": [
       "  Id    SepalLengthCm SepalWidthCm PetalLengthCm PetalWidthCm\n",
       "1 125.5 6.588         2.974        5.552         2.026       \n",
       "2  25.5 5.006         3.418        1.464         0.244       \n",
       "3  75.5 5.936         2.770        4.260         1.326       "
      ]
     },
     "metadata": {},
     "output_type": "display_data"
    }
   ],
   "source": [
    "#now lets a take alook at the centroids\n",
    "k$centers"
   ]
  },
  {
   "cell_type": "markdown",
   "metadata": {},
   "source": [
    "## Now lets Visualise the clusters for SepalLength and SepalWidth"
   ]
  },
  {
   "cell_type": "code",
   "execution_count": 12,
   "metadata": {},
   "outputs": [
    {
     "data": {
      "image/png": "[encoded data removed]",
      "text/plain": [
       "plot without title"
      ]
     },
     "metadata": {},
     "output_type": "display_data"
    }
   ],
   "source": [
    "ggplot(iris_features)+\n",
    "geom_point(aes(x=SepalLengthCm,y=SepalWidthCm,col=k$cluster),size=4)"
   ]
  },
  {
   "cell_type": "markdown",
   "metadata": {},
   "source": [
    "## Lets visualise the plot using the Species section "
   ]
  },
  {
   "cell_type": "code",
   "execution_count": 13,
   "metadata": {},
   "outputs": [
    {
     "data": {
      "image/png": "[encoded data removed]",
      "text/plain": [
       "plot without title"
      ]
     },
     "metadata": {},
     "output_type": "display_data"
    }
   ],
   "source": [
    "ggplot(iris_features)+\n",
    "geom_point(aes(x=SepalLengthCm,y=SepalWidthCm,col=iris$Species),size=4)"
   ]
  },
  {
   "cell_type": "markdown",
   "metadata": {},
   "source": [
    "### After observing both plots we can say that these two plots are almost identical"
   ]
  },
  {
   "cell_type": "code",
   "execution_count": 14,
   "metadata": {},
   "outputs": [
    {
     "data": {
      "text/plain": [
       "   \n",
       "    Iris-setosa Iris-versicolor Iris-virginica\n",
       "  1           0               0             50\n",
       "  2          50               0              0\n",
       "  3           0              50              0"
      ]
     },
     "metadata": {},
     "output_type": "display_data"
    }
   ],
   "source": [
    "table(k$cluster,iris$Species)"
   ]
  },
  {
   "cell_type": "markdown",
   "metadata": {},
   "source": [
    "## As we can observe by the table the kmeans cluster has clustered the values perfectly "
   ]
  },
  {
   "cell_type": "code",
   "execution_count": null,
   "metadata": {},
   "outputs": [],
   "source": []
  }
 ],
 "metadata": {
  "kernelspec": {
   "display_name": "R",
   "language": "R",
   "name": "ir"
  },
  "language_info": {
   "codemirror_mode": "r",
   "file_extension": ".r",
   "mimetype": "text/x-r-source",
   "name": "R",
   "pygments_lexer": "r",
   "version": "3.6.1"
  }
 },
 "nbformat": 4,
 "nbformat_minor": 4
}
