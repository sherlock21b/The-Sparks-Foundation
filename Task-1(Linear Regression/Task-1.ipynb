{
 "cells": [
  {
   "cell_type": "markdown",
   "metadata": {},
   "source": [
    "# THE SPARKS FOUNDATION"
   ]
  },
  {
   "cell_type": "markdown",
   "metadata": {},
   "source": [
    "## NAME:RITIK BANERJEE"
   ]
  },
  {
   "cell_type": "markdown",
   "metadata": {},
   "source": [
    "### Predict the percentage of an student based on the no. of study hours."
   ]
  },
  {
   "cell_type": "code",
   "execution_count": 1,
   "metadata": {},
   "outputs": [
    {
     "name": "stderr",
     "output_type": "stream",
     "text": [
      "Registered S3 methods overwritten by 'ggplot2':\n",
      "  method         from \n",
      "  [.quosures     rlang\n",
      "  c.quosures     rlang\n",
      "  print.quosures rlang\n",
      "Warning message:\n",
      "\"package 'caTools' was built under R version 3.6.3\"Warning message:\n",
      "\"package 'Metrics' was built under R version 3.6.3\""
     ]
    }
   ],
   "source": [
    "#importing required libraries\n",
    "library(ggplot2)\n",
    "library(caTools)\n",
    "library(Metrics)"
   ]
  },
  {
   "cell_type": "code",
   "execution_count": 2,
   "metadata": {},
   "outputs": [],
   "source": [
    "data<-read.csv(\"http://bit.ly/w-data\")"
   ]
  },
  {
   "cell_type": "code",
   "execution_count": 3,
   "metadata": {},
   "outputs": [
    {
     "data": {
      "text/html": [
       "<table>\n",
       "<thead><tr><th scope=col>Hours</th><th scope=col>Scores</th></tr></thead>\n",
       "<tbody>\n",
       "\t<tr><td>2.5</td><td>21 </td></tr>\n",
       "\t<tr><td>5.1</td><td>47 </td></tr>\n",
       "\t<tr><td>3.2</td><td>27 </td></tr>\n",
       "\t<tr><td>8.5</td><td>75 </td></tr>\n",
       "\t<tr><td>3.5</td><td>30 </td></tr>\n",
       "\t<tr><td>1.5</td><td>20 </td></tr>\n",
       "\t<tr><td>9.2</td><td>88 </td></tr>\n",
       "\t<tr><td>5.5</td><td>60 </td></tr>\n",
       "\t<tr><td>8.3</td><td>81 </td></tr>\n",
       "\t<tr><td>2.7</td><td>25 </td></tr>\n",
       "\t<tr><td>7.7</td><td>85 </td></tr>\n",
       "\t<tr><td>5.9</td><td>62 </td></tr>\n",
       "\t<tr><td>4.5</td><td>41 </td></tr>\n",
       "\t<tr><td>3.3</td><td>42 </td></tr>\n",
       "\t<tr><td>1.1</td><td>17 </td></tr>\n",
       "\t<tr><td>8.9</td><td>95 </td></tr>\n",
       "\t<tr><td>2.5</td><td>30 </td></tr>\n",
       "\t<tr><td>1.9</td><td>24 </td></tr>\n",
       "\t<tr><td>6.1</td><td>67 </td></tr>\n",
       "\t<tr><td>7.4</td><td>69 </td></tr>\n",
       "\t<tr><td>2.7</td><td>30 </td></tr>\n",
       "\t<tr><td>4.8</td><td>54 </td></tr>\n",
       "\t<tr><td>3.8</td><td>35 </td></tr>\n",
       "\t<tr><td>6.9</td><td>76 </td></tr>\n",
       "\t<tr><td>7.8</td><td>86 </td></tr>\n",
       "</tbody>\n",
       "</table>\n"
      ],
      "text/latex": [
       "\\begin{tabular}{r|ll}\n",
       " Hours & Scores\\\\\n",
       "\\hline\n",
       "\t 2.5 & 21 \\\\\n",
       "\t 5.1 & 47 \\\\\n",
       "\t 3.2 & 27 \\\\\n",
       "\t 8.5 & 75 \\\\\n",
       "\t 3.5 & 30 \\\\\n",
       "\t 1.5 & 20 \\\\\n",
       "\t 9.2 & 88 \\\\\n",
       "\t 5.5 & 60 \\\\\n",
       "\t 8.3 & 81 \\\\\n",
       "\t 2.7 & 25 \\\\\n",
       "\t 7.7 & 85 \\\\\n",
       "\t 5.9 & 62 \\\\\n",
       "\t 4.5 & 41 \\\\\n",
       "\t 3.3 & 42 \\\\\n",
       "\t 1.1 & 17 \\\\\n",
       "\t 8.9 & 95 \\\\\n",
       "\t 2.5 & 30 \\\\\n",
       "\t 1.9 & 24 \\\\\n",
       "\t 6.1 & 67 \\\\\n",
       "\t 7.4 & 69 \\\\\n",
       "\t 2.7 & 30 \\\\\n",
       "\t 4.8 & 54 \\\\\n",
       "\t 3.8 & 35 \\\\\n",
       "\t 6.9 & 76 \\\\\n",
       "\t 7.8 & 86 \\\\\n",
       "\\end{tabular}\n"
      ],
      "text/markdown": [
       "\n",
       "| Hours | Scores |\n",
       "|---|---|\n",
       "| 2.5 | 21  |\n",
       "| 5.1 | 47  |\n",
       "| 3.2 | 27  |\n",
       "| 8.5 | 75  |\n",
       "| 3.5 | 30  |\n",
       "| 1.5 | 20  |\n",
       "| 9.2 | 88  |\n",
       "| 5.5 | 60  |\n",
       "| 8.3 | 81  |\n",
       "| 2.7 | 25  |\n",
       "| 7.7 | 85  |\n",
       "| 5.9 | 62  |\n",
       "| 4.5 | 41  |\n",
       "| 3.3 | 42  |\n",
       "| 1.1 | 17  |\n",
       "| 8.9 | 95  |\n",
       "| 2.5 | 30  |\n",
       "| 1.9 | 24  |\n",
       "| 6.1 | 67  |\n",
       "| 7.4 | 69  |\n",
       "| 2.7 | 30  |\n",
       "| 4.8 | 54  |\n",
       "| 3.8 | 35  |\n",
       "| 6.9 | 76  |\n",
       "| 7.8 | 86  |\n",
       "\n"
      ],
      "text/plain": [
       "   Hours Scores\n",
       "1  2.5   21    \n",
       "2  5.1   47    \n",
       "3  3.2   27    \n",
       "4  8.5   75    \n",
       "5  3.5   30    \n",
       "6  1.5   20    \n",
       "7  9.2   88    \n",
       "8  5.5   60    \n",
       "9  8.3   81    \n",
       "10 2.7   25    \n",
       "11 7.7   85    \n",
       "12 5.9   62    \n",
       "13 4.5   41    \n",
       "14 3.3   42    \n",
       "15 1.1   17    \n",
       "16 8.9   95    \n",
       "17 2.5   30    \n",
       "18 1.9   24    \n",
       "19 6.1   67    \n",
       "20 7.4   69    \n",
       "21 2.7   30    \n",
       "22 4.8   54    \n",
       "23 3.8   35    \n",
       "24 6.9   76    \n",
       "25 7.8   86    "
      ]
     },
     "metadata": {},
     "output_type": "display_data"
    }
   ],
   "source": [
    "data"
   ]
  },
  {
   "cell_type": "code",
   "execution_count": 11,
   "metadata": {},
   "outputs": [
    {
     "name": "stdout",
     "output_type": "stream",
     "text": [
      "'data.frame':\t25 obs. of  2 variables:\n",
      " $ Hours : num  2.5 5.1 3.2 8.5 3.5 1.5 9.2 5.5 8.3 2.7 ...\n",
      " $ Scores: int  21 47 27 75 30 20 88 60 81 25 ...\n"
     ]
    }
   ],
   "source": [
    "str(data)"
   ]
  },
  {
   "cell_type": "code",
   "execution_count": 12,
   "metadata": {},
   "outputs": [
    {
     "data": {
      "text/plain": [
       "     Hours           Scores     \n",
       " Min.   :1.100   Min.   :17.00  \n",
       " 1st Qu.:2.700   1st Qu.:30.00  \n",
       " Median :4.800   Median :47.00  \n",
       " Mean   :5.012   Mean   :51.48  \n",
       " 3rd Qu.:7.400   3rd Qu.:75.00  \n",
       " Max.   :9.200   Max.   :95.00  "
      ]
     },
     "metadata": {},
     "output_type": "display_data"
    }
   ],
   "source": [
    "summary(data)"
   ]
  },
  {
   "cell_type": "code",
   "execution_count": 6,
   "metadata": {},
   "outputs": [
    {
     "data": {
      "image/png": "[encoded data removed]",
      "text/plain": [
       "plot without title"
      ]
     },
     "metadata": {},
     "output_type": "display_data"
    }
   ],
   "source": [
    "ggplot(data,aes(x=Hours,y=Scores))+\n",
    "geom_point()"
   ]
  },
  {
   "cell_type": "markdown",
   "metadata": {},
   "source": [
    "## Preparing the Training and Test data set"
   ]
  },
  {
   "cell_type": "code",
   "execution_count": 16,
   "metadata": {},
   "outputs": [],
   "source": [
    "#splitting the data set in the ratio of 0.8\n",
    "split<-sample.split(data,SplitRatio=0.8)\n",
    "train<-subset(data,split==\"TRUE\")\n",
    "test<-subset(data,split==\"FALSE\")"
   ]
  },
  {
   "cell_type": "markdown",
   "metadata": {},
   "source": [
    "## Training The Model"
   ]
  },
  {
   "cell_type": "code",
   "execution_count": 18,
   "metadata": {},
   "outputs": [],
   "source": [
    "model<-lm(Scores~.,train)"
   ]
  },
  {
   "cell_type": "code",
   "execution_count": 19,
   "metadata": {},
   "outputs": [
    {
     "data": {
      "text/plain": [
       "\n",
       "Call:\n",
       "lm(formula = Scores ~ ., data = train)\n",
       "\n",
       "Coefficients:\n",
       "(Intercept)        Hours  \n",
       "    -0.3332      10.2119  \n"
      ]
     },
     "metadata": {},
     "output_type": "display_data"
    }
   ],
   "source": [
    "model"
   ]
  },
  {
   "cell_type": "code",
   "execution_count": 29,
   "metadata": {},
   "outputs": [
    {
     "data": {
      "image/png": "[encoded data removed]",
      "text/plain": [
       "plot without title"
      ]
     },
     "metadata": {},
     "output_type": "display_data"
    }
   ],
   "source": [
    "plot(data)\n",
    "abline(model)"
   ]
  },
  {
   "cell_type": "markdown",
   "metadata": {},
   "source": [
    "## Predicting the Data"
   ]
  },
  {
   "cell_type": "code",
   "execution_count": 30,
   "metadata": {},
   "outputs": [],
   "source": [
    "pred<-predict(model,test)"
   ]
  },
  {
   "cell_type": "code",
   "execution_count": 31,
   "metadata": {},
   "outputs": [
    {
     "data": {
      "text/html": [
       "<dl class=dl-horizontal>\n",
       "\t<dt>2</dt>\n",
       "\t\t<dd>51.7477389124986</dd>\n",
       "\t<dt>4</dt>\n",
       "\t\t<dd>86.4683447749809</dd>\n",
       "\t<dt>6</dt>\n",
       "\t\t<dd>14.9847444698703</dd>\n",
       "\t<dt>8</dt>\n",
       "\t\t<dd>55.8325160727907</dd>\n",
       "\t<dt>10</dt>\n",
       "\t\t<dd>27.2390759507464</dd>\n",
       "\t<dt>12</dt>\n",
       "\t\t<dd>59.9172932330827</dd>\n",
       "\t<dt>14</dt>\n",
       "\t\t<dd>33.3662416911845</dd>\n",
       "\t<dt>16</dt>\n",
       "\t\t<dd>90.553121935273</dd>\n",
       "\t<dt>18</dt>\n",
       "\t\t<dd>19.0695216301623</dd>\n",
       "\t<dt>20</dt>\n",
       "\t\t<dd>75.2352075841779</dd>\n",
       "\t<dt>22</dt>\n",
       "\t\t<dd>48.6841560422796</dd>\n",
       "\t<dt>24</dt>\n",
       "\t\t<dd>70.1292361338128</dd>\n",
       "</dl>\n"
      ],
      "text/latex": [
       "\\begin{description*}\n",
       "\\item[2] 51.7477389124986\n",
       "\\item[4] 86.4683447749809\n",
       "\\item[6] 14.9847444698703\n",
       "\\item[8] 55.8325160727907\n",
       "\\item[10] 27.2390759507464\n",
       "\\item[12] 59.9172932330827\n",
       "\\item[14] 33.3662416911845\n",
       "\\item[16] 90.553121935273\n",
       "\\item[18] 19.0695216301623\n",
       "\\item[20] 75.2352075841779\n",
       "\\item[22] 48.6841560422796\n",
       "\\item[24] 70.1292361338128\n",
       "\\end{description*}\n"
      ],
      "text/markdown": [
       "2\n",
       ":   51.74773891249864\n",
       ":   86.46834477498096\n",
       ":   14.98474446987038\n",
       ":   55.832516072790710\n",
       ":   27.239075950746412\n",
       ":   59.917293233082714\n",
       ":   33.366241691184516\n",
       ":   90.55312193527318\n",
       ":   19.069521630162320\n",
       ":   75.235207584177922\n",
       ":   48.684156042279624\n",
       ":   70.1292361338128\n",
       "\n"
      ],
      "text/plain": [
       "       2        4        6        8       10       12       14       16 \n",
       "51.74774 86.46834 14.98474 55.83252 27.23908 59.91729 33.36624 90.55312 \n",
       "      18       20       22       24 \n",
       "19.06952 75.23521 48.68416 70.12924 "
      ]
     },
     "metadata": {},
     "output_type": "display_data"
    }
   ],
   "source": [
    "pred"
   ]
  },
  {
   "cell_type": "code",
   "execution_count": 32,
   "metadata": {},
   "outputs": [],
   "source": [
    "#Now we should check the predicted data against the original data\n",
    "p<-data.frame(Actual=test$Scores,Prediction=pred)"
   ]
  },
  {
   "cell_type": "code",
   "execution_count": 33,
   "metadata": {},
   "outputs": [
    {
     "data": {
      "text/html": [
       "<table>\n",
       "<thead><tr><th></th><th scope=col>Actual</th><th scope=col>Prediction</th></tr></thead>\n",
       "<tbody>\n",
       "\t<tr><th scope=row>2</th><td>47      </td><td>51.74774</td></tr>\n",
       "\t<tr><th scope=row>4</th><td>75      </td><td>86.46834</td></tr>\n",
       "\t<tr><th scope=row>6</th><td>20      </td><td>14.98474</td></tr>\n",
       "\t<tr><th scope=row>8</th><td>60      </td><td>55.83252</td></tr>\n",
       "\t<tr><th scope=row>10</th><td>25      </td><td>27.23908</td></tr>\n",
       "\t<tr><th scope=row>12</th><td>62      </td><td>59.91729</td></tr>\n",
       "\t<tr><th scope=row>14</th><td>42      </td><td>33.36624</td></tr>\n",
       "\t<tr><th scope=row>16</th><td>95      </td><td>90.55312</td></tr>\n",
       "\t<tr><th scope=row>18</th><td>24      </td><td>19.06952</td></tr>\n",
       "\t<tr><th scope=row>20</th><td>69      </td><td>75.23521</td></tr>\n",
       "\t<tr><th scope=row>22</th><td>54      </td><td>48.68416</td></tr>\n",
       "\t<tr><th scope=row>24</th><td>76      </td><td>70.12924</td></tr>\n",
       "</tbody>\n",
       "</table>\n"
      ],
      "text/latex": [
       "\\begin{tabular}{r|ll}\n",
       "  & Actual & Prediction\\\\\n",
       "\\hline\n",
       "\t2 & 47       & 51.74774\\\\\n",
       "\t4 & 75       & 86.46834\\\\\n",
       "\t6 & 20       & 14.98474\\\\\n",
       "\t8 & 60       & 55.83252\\\\\n",
       "\t10 & 25       & 27.23908\\\\\n",
       "\t12 & 62       & 59.91729\\\\\n",
       "\t14 & 42       & 33.36624\\\\\n",
       "\t16 & 95       & 90.55312\\\\\n",
       "\t18 & 24       & 19.06952\\\\\n",
       "\t20 & 69       & 75.23521\\\\\n",
       "\t22 & 54       & 48.68416\\\\\n",
       "\t24 & 76       & 70.12924\\\\\n",
       "\\end{tabular}\n"
      ],
      "text/markdown": [
       "\n",
       "| <!--/--> | Actual | Prediction |\n",
       "|---|---|---|\n",
       "| 2 | 47       | 51.74774 |\n",
       "| 4 | 75       | 86.46834 |\n",
       "| 6 | 20       | 14.98474 |\n",
       "| 8 | 60       | 55.83252 |\n",
       "| 10 | 25       | 27.23908 |\n",
       "| 12 | 62       | 59.91729 |\n",
       "| 14 | 42       | 33.36624 |\n",
       "| 16 | 95       | 90.55312 |\n",
       "| 18 | 24       | 19.06952 |\n",
       "| 20 | 69       | 75.23521 |\n",
       "| 22 | 54       | 48.68416 |\n",
       "| 24 | 76       | 70.12924 |\n",
       "\n"
      ],
      "text/plain": [
       "   Actual Prediction\n",
       "2  47     51.74774  \n",
       "4  75     86.46834  \n",
       "6  20     14.98474  \n",
       "8  60     55.83252  \n",
       "10 25     27.23908  \n",
       "12 62     59.91729  \n",
       "14 42     33.36624  \n",
       "16 95     90.55312  \n",
       "18 24     19.06952  \n",
       "20 69     75.23521  \n",
       "22 54     48.68416  \n",
       "24 76     70.12924  "
      ]
     },
     "metadata": {},
     "output_type": "display_data"
    }
   ],
   "source": [
    "p"
   ]
  },
  {
   "cell_type": "code",
   "execution_count": 38,
   "metadata": {},
   "outputs": [],
   "source": [
    "#Now lets predict the score against the given input(hours)\n",
    "k<-data.frame(Hours=9.25,Scores=0)"
   ]
  },
  {
   "cell_type": "code",
   "execution_count": 39,
   "metadata": {},
   "outputs": [],
   "source": [
    "s<-predict(model,k)"
   ]
  },
  {
   "cell_type": "code",
   "execution_count": 41,
   "metadata": {},
   "outputs": [],
   "source": [
    "k$Scores<-s"
   ]
  },
  {
   "cell_type": "code",
   "execution_count": 42,
   "metadata": {},
   "outputs": [
    {
     "data": {
      "text/html": [
       "<table>\n",
       "<thead><tr><th scope=col>Hours</th><th scope=col>Scores</th></tr></thead>\n",
       "<tbody>\n",
       "\t<tr><td>9.25   </td><td>94.1273</td></tr>\n",
       "</tbody>\n",
       "</table>\n"
      ],
      "text/latex": [
       "\\begin{tabular}{r|ll}\n",
       " Hours & Scores\\\\\n",
       "\\hline\n",
       "\t 9.25    & 94.1273\\\\\n",
       "\\end{tabular}\n"
      ],
      "text/markdown": [
       "\n",
       "| Hours | Scores |\n",
       "|---|---|\n",
       "| 9.25    | 94.1273 |\n",
       "\n"
      ],
      "text/plain": [
       "  Hours Scores \n",
       "1 9.25  94.1273"
      ]
     },
     "metadata": {},
     "output_type": "display_data"
    }
   ],
   "source": [
    "k"
   ]
  },
  {
   "cell_type": "markdown",
   "metadata": {},
   "source": [
    "## As we can see the predicted Score for 9.25 Hour is 94.1273"
   ]
  },
  {
   "cell_type": "markdown",
   "metadata": {},
   "source": [
    "## Evaluating the model"
   ]
  },
  {
   "cell_type": "code",
   "execution_count": 43,
   "metadata": {},
   "outputs": [
    {
     "name": "stdout",
     "output_type": "stream",
     "text": [
      "Mean Absolute Error : 5.429461"
     ]
    }
   ],
   "source": [
    "#to evaluate the model we use the Mean Absolute Error Method\n",
    "x<-mae(test$Scores,pred)\n",
    "cat(\"Mean Absolute Error :\",x)"
   ]
  },
  {
   "cell_type": "code",
   "execution_count": null,
   "metadata": {},
   "outputs": [],
   "source": []
  }
 ],
 "metadata": {
  "kernelspec": {
   "display_name": "R",
   "language": "R",
   "name": "ir"
  },
  "language_info": {
   "codemirror_mode": "r",
   "file_extension": ".r",
   "mimetype": "text/x-r-source",
   "name": "R",
   "pygments_lexer": "r",
   "version": "3.6.1"
  }
 },
 "nbformat": 4,
 "nbformat_minor": 4
}
